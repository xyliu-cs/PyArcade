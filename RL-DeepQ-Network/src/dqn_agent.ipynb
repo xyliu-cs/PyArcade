{
  "cells": [
    {
      "attachments": {},
      "cell_type": "markdown",
      "metadata": {
        "id": "ZauhjPSfX7pI"
      },
      "source": [
        "# Balancing a Pole on a Cart"
      ]
    },
    {
      "attachments": {},
      "cell_type": "markdown",
      "metadata": {},
      "source": [
        "This file is suggested to open via Google Colab"
      ]
    },
    {
      "cell_type": "markdown",
      "metadata": {
        "id": "UBiYOoesYMvr"
      },
      "source": [
        "## Installing dependencies:"
      ]
    },
    {
      "cell_type": "code",
      "execution_count": null,
      "metadata": {
        "colab": {
          "base_uri": "https://localhost:8080/"
        },
        "id": "PbgnVwZmX5uW",
        "outputId": "caf1c8d5-fe8f-4929-cfd5-6a6b85a44c40"
      },
      "outputs": [
        {
          "name": "stdout",
          "output_type": "stream",
          "text": [
            "Looking in indexes: https://pypi.org/simple, https://us-python.pkg.dev/colab-wheels/public/simple/\n",
            "Requirement already satisfied: gym[classic_control] in /usr/local/lib/python3.9/dist-packages (0.25.2)\n",
            "Requirement already satisfied: cloudpickle>=1.2.0 in /usr/local/lib/python3.9/dist-packages (from gym[classic_control]) (2.2.1)\n",
            "Requirement already satisfied: numpy>=1.18.0 in /usr/local/lib/python3.9/dist-packages (from gym[classic_control]) (1.22.4)\n",
            "Requirement already satisfied: gym-notices>=0.0.4 in /usr/local/lib/python3.9/dist-packages (from gym[classic_control]) (0.0.8)\n",
            "Requirement already satisfied: importlib-metadata>=4.8.0 in /usr/local/lib/python3.9/dist-packages (from gym[classic_control]) (6.1.0)\n",
            "Collecting pygame==2.1.0\n",
            "  Downloading pygame-2.1.0-cp39-cp39-manylinux_2_17_x86_64.manylinux2014_x86_64.whl (18.3 MB)\n",
            "\u001b[2K     \u001b[90m━━━━━━━━━━━━━━━━━━━━━━━━━━━━━━━━━━━━━━━━\u001b[0m \u001b[32m18.3/18.3 MB\u001b[0m \u001b[31m41.1 MB/s\u001b[0m eta \u001b[36m0:00:00\u001b[0m\n",
            "\u001b[?25hRequirement already satisfied: zipp>=0.5 in /usr/local/lib/python3.9/dist-packages (from importlib-metadata>=4.8.0->gym[classic_control]) (3.15.0)\n",
            "Installing collected packages: pygame\n",
            "  Attempting uninstall: pygame\n",
            "    Found existing installation: pygame 2.3.0\n",
            "    Uninstalling pygame-2.3.0:\n",
            "      Successfully uninstalled pygame-2.3.0\n",
            "Successfully installed pygame-2.1.0\n",
            "Looking in indexes: https://pypi.org/simple, https://us-python.pkg.dev/colab-wheels/public/simple/\n",
            "Requirement already satisfied: setuptools in /usr/local/lib/python3.9/dist-packages (67.6.0)\n",
            "Collecting setuptools\n",
            "  Downloading setuptools-67.6.1-py3-none-any.whl (1.1 MB)\n",
            "\u001b[2K     \u001b[90m━━━━━━━━━━━━━━━━━━━━━━━━━━━━━━━━━━━━━━━━\u001b[0m \u001b[32m1.1/1.1 MB\u001b[0m \u001b[31m15.1 MB/s\u001b[0m eta \u001b[36m0:00:00\u001b[0m\n",
            "\u001b[?25hInstalling collected packages: setuptools\n",
            "  Attempting uninstall: setuptools\n",
            "    Found existing installation: setuptools 67.6.0\n",
            "    Uninstalling setuptools-67.6.0:\n",
            "      Successfully uninstalled setuptools-67.6.0\n",
            "\u001b[31mERROR: pip's dependency resolver does not currently take into account all the packages that are installed. This behaviour is the source of the following dependency conflicts.\n",
            "ipython 7.9.0 requires jedi>=0.10, which is not installed.\u001b[0m\u001b[31m\n",
            "\u001b[0mSuccessfully installed setuptools-67.6.1\n"
          ]
        }
      ],
      "source": [
        "!apt-get install -y xvfb python-opengl > /dev/null 2>&1\n",
        "!pip install gym pyvirtualdisplay > /dev/null 2>&1\n",
        "!pip install gym pyvirtualdisplay > /dev/null 2>&1\n",
        "!apt-get install -y xvfb python-opengl ffmpeg > /dev/null 2>&1\n",
        "!pip install gym[classic_control]\n",
        "!apt-get update > /dev/null 2>&1\n",
        "!apt-get install cmake > /dev/null 2>&1\n",
        "!pip install --upgrade setuptools 2>&1\n",
        "!pip install ez_setup > /dev/null 2>&1"
      ]
    },
    {
      "cell_type": "markdown",
      "metadata": {
        "id": "RwKbYeTgbaTA"
      },
      "source": [
        "## Importing dependencies and define helper functions"
      ]
    },
    {
      "cell_type": "code",
      "execution_count": null,
      "metadata": {
        "id": "j6KpgCLGYWmj"
      },
      "outputs": [],
      "source": [
        "import gym\n",
        "from gym import logger as gymlogger\n",
        "from gym.wrappers import RecordVideo\n",
        "gymlogger.set_level(40) #error only\n",
        "import tensorflow as tf\n",
        "import numpy as np\n",
        "import random\n",
        "import matplotlib\n",
        "import matplotlib.pyplot as plt\n",
        "%matplotlib inline\n",
        "import math\n",
        "import glob\n",
        "import io\n",
        "import base64\n",
        "from IPython.display import HTML\n",
        "from IPython import display as ipythondisplay\n",
        "\n",
        "def show_video():\n",
        "  mp4list = glob.glob('video/*.mp4')\n",
        "  if len(mp4list) > 0:\n",
        "    mp4 = mp4list[0]\n",
        "    video = io.open(mp4, 'r+b').read()\n",
        "    encoded = base64.b64encode(video)\n",
        "    ipythondisplay.display(HTML(data='''<video alt=\"test\" autoplay \n",
        "                loop controls style=\"height: 400px;\">\n",
        "                <source src=\"data:video/mp4;base64,{0}\" type=\"video/mp4\" />\n",
        "             </video>'''.format(encoded.decode('ascii'))))\n",
        "  else: \n",
        "    print(\"Could not find video\")"
      ]
    },
    {
      "cell_type": "markdown",
      "metadata": {
        "id": "ehbqP9CXbmo7"
      },
      "source": [
        "## Tutorial: Loading CartPole environment"
      ]
    },
    {
      "cell_type": "code",
      "execution_count": null,
      "metadata": {
        "id": "Go12dH4qbwBy"
      },
      "outputs": [],
      "source": [
        "env = gym.make(\"CartPole-v1\")"
      ]
    },
    {
      "cell_type": "markdown",
      "metadata": {
        "id": "9XZ9g3xrcAXE"
      },
      "source": [
        "We can check the action and observation space of this environment. Discrete(2) means that there are two valid discrete actions: 0 & 1."
      ]
    },
    {
      "cell_type": "code",
      "execution_count": null,
      "metadata": {
        "colab": {
          "base_uri": "https://localhost:8080/"
        },
        "id": "ytxvVmLdcRyw",
        "outputId": "f8064999-0cce-4d1e-9163-f8039e764352"
      },
      "outputs": [
        {
          "name": "stdout",
          "output_type": "stream",
          "text": [
            "Discrete(2)\n"
          ]
        }
      ],
      "source": [
        "print(env.action_space)"
      ]
    },
    {
      "cell_type": "markdown",
      "metadata": {
        "id": "pVXGWi_Ncfg-"
      },
      "source": [
        "The observation space is given below. The first two arrays define the min and max values of the 4 observed values, corresponding to cart position, velocity and pole angle, angular velocity."
      ]
    },
    {
      "cell_type": "code",
      "execution_count": null,
      "metadata": {
        "colab": {
          "base_uri": "https://localhost:8080/"
        },
        "id": "DyqHr9I5cdkX",
        "outputId": "f861b7b6-89a6-4639-b301-e5b03c162684"
      },
      "outputs": [
        {
          "name": "stdout",
          "output_type": "stream",
          "text": [
            "Box([-4.8000002e+00 -3.4028235e+38 -4.1887903e-01 -3.4028235e+38], [4.8000002e+00 3.4028235e+38 4.1887903e-01 3.4028235e+38], (4,), float32)\n"
          ]
        }
      ],
      "source": [
        "print(env.observation_space)"
      ]
    },
    {
      "cell_type": "markdown",
      "metadata": {
        "id": "HFOdaU2Gdyg0"
      },
      "source": [
        "We call each round of the pole-balancing game an \"episode\". At the start of each episode, make sure the environment is reset, which chooses a random initial state, e.g., pole slightly tilted to the right. This initialization can be achieved by the code below, which returns the observation of the initial state."
      ]
    },
    {
      "cell_type": "code",
      "execution_count": null,
      "metadata": {
        "colab": {
          "base_uri": "https://localhost:8080/"
        },
        "id": "VMr6qAqxdOsm",
        "outputId": "54ecaf66-99bb-45ec-f30a-767b3cf4c8e0"
      },
      "outputs": [
        {
          "name": "stdout",
          "output_type": "stream",
          "text": [
            "Initial observations: [-0.02300006  0.02755595 -0.03423402 -0.01958213]\n"
          ]
        }
      ],
      "source": [
        "observation = env.reset()\n",
        "print(\"Initial observations:\", observation)"
      ]
    },
    {
      "cell_type": "markdown",
      "metadata": {
        "id": "qnG2QdfbeZrI"
      },
      "source": [
        "For the CartPole environment, there are two possible actions: 0 for pushing to the left and 1 for pushing to the right. For example, we can push the cart to the left using code below, which returns the new observation, the current reward, an indicator of whether the game ends, and some additional information (not used in this project). For CartPole, the game ends when the pole is significantly tilted or you manage to balance the pole for 500 steps. You get exactly 1 reward for each step before the game ends (i.e., max cumulative reward is 500)."
      ]
    },
    {
      "cell_type": "code",
      "execution_count": null,
      "metadata": {
        "colab": {
          "base_uri": "https://localhost:8080/"
        },
        "id": "MmfMDvyYdWGk",
        "outputId": "1342a62a-50b4-4409-8e9d-4faedf2c8cfa"
      },
      "outputs": [
        {
          "name": "stdout",
          "output_type": "stream",
          "text": [
            "New observations after choosing action 0: [-0.02244894 -0.16705875 -0.03462566  0.26210603]\n",
            "Reward for this step: 1.0\n",
            "Is this round done? False\n"
          ]
        }
      ],
      "source": [
        "observation, reward, done, info = env.step(0)\n",
        "print(\"New observations after choosing action 0:\", observation)\n",
        "print(\"Reward for this step:\", reward)\n",
        "print(\"Is this round done?\", done)"
      ]
    },
    {
      "cell_type": "markdown",
      "metadata": {
        "id": "tj0zCh59fhBb"
      },
      "source": [
        "Now we can play a full round of the game using a naive strategy (always choosing action 0), and show the cumulative reward in the round. Note that reward returned by env.step(*) corresponds to the reward for current step. So we have to accumulate the reward for each step. Clearly, the naive strategy performs poorly by surviving only a dozen of steps."
      ]
    },
    {
      "cell_type": "code",
      "execution_count": null,
      "metadata": {
        "colab": {
          "base_uri": "https://localhost:8080/"
        },
        "id": "AVucQVRwf6Jm",
        "outputId": "a59266e0-6c7d-4bd9-b684-1d73a35eb64e"
      },
      "outputs": [
        {
          "name": "stdout",
          "output_type": "stream",
          "text": [
            "Cumulative reward for this round: 8.0\n"
          ]
        }
      ],
      "source": [
        "observation = env.reset()\n",
        "cumulative_reward = 0\n",
        "done = False\n",
        "while not done:\n",
        "    observation, reward, done, info = env.step(0)\n",
        "    cumulative_reward += reward\n",
        "print(\"Cumulative reward for this round:\", cumulative_reward)"
      ]
    },
    {
      "attachments": {},
      "cell_type": "markdown",
      "metadata": {
        "id": "2oIzK9SzhlWN"
      },
      "source": [
        "## Task 1: Development of an RL agent"
      ]
    },
    {
      "cell_type": "markdown",
      "metadata": {
        "id": "Cc6_e5c_huiq"
      },
      "source": [
        "**Background:**\n",
        "OpenAI Baselines algorithms DQN with replay buffer and a target network by Deepmind Atari from Google's [Human level control though deep reinforcement learning](http://web.stanford.edu/class/psych209/Readings/MnihEtAlHassibis15NatureControlDeepRL.pdf),\n",
        "The algorithm is as follows:\n",
        "\n",
        "1. Create a Replay \"Buffer\" that stores the last #buffer_size S.A.R.S. (State, Action, Reward, New State) experiences.\n",
        "\n",
        "2. Run your agent, and let it accumulate experiences in the replay-buffer until it (the buffer) has at least #batch_size experiences.\n",
        "\n",
        "  - You can select actions according to a certain policy (e.g. soft-max for discrete action space, Gaussian for continuous, etc.) over your 𝑄̂ (𝑠,𝑎;𝜃)\n",
        " function estimator.\n",
        " \n",
        "3. Once it reaches #batch_size, or more:\n",
        "\n",
        "  - make a copy of the function estimator (𝑄̂ (𝑠,𝑎;𝜃)\n",
        ") at the current time, i.e. a copy of the weights 𝜃 - which you \"freeze\" and don't update, and use to calculate the \"true\" states 𝑄̂ (𝑠′,𝑎′;𝜃)\n",
        ". Run for num_replay updates:\n",
        "\n",
        "    - sample #batch_size experiences from the replay buffer.\n",
        "\n",
        "    - Use the sampled experiences to preform a batched update to your function estimator (e.g. in Q-Learning where 𝑄̂ (𝑠,𝑎)=\n",
        " Neural network - update the weights of the network). Use the frozen weights as the \"true\" action-values function, but continue to improve the non-frozen function.\n",
        "\n",
        "  - Do this until you reach a terminal state.\n",
        "\n",
        "  - Don't forget to constantly append the new experiences to the Replay Buffer\n",
        "\n",
        "4. Run for as many episodes as you need.\n",
        "\n",
        "  - $ 𝐿𝑖(𝜃𝑖)=𝔼(𝑠,𝑎,𝑟,𝑠′)∼𝑈(𝐷)[(𝑟+𝛾max𝑎′𝑄(𝑠′,𝑎′;𝜃−𝑖)−𝑄(𝑠,𝑎;𝜃𝑖))^2] $ \n",
        "\n",
        "<br/>**Improvement:** Our implementation is based on this algorithm but we re-designed the DQN agent class and tuned the model parameters for better performance.\n"
      ]
    },
    {
      "cell_type": "code",
      "execution_count": null,
      "metadata": {
        "id": "Hk-M4QEfh6l5"
      },
      "outputs": [],
      "source": [
        "import torch\n",
        "import copy\n",
        "from collections import deque\n",
        "from torch import nn\n",
        "import random\n",
        "import numpy\n",
        "\n",
        "class DQN_Agent:\n",
        "    \"\"\"\n",
        "      lr: learning rate\n",
        "      seed: randomize seed\n",
        "      sync_freq: frequency of target net sync with main net\n",
        "      exp_replay_size: experience replay size\n",
        "    \n",
        "    \"\"\"\n",
        "    def __init__(self, seed, layer_sizes, lr, sync_freq, exp_replay_size):\n",
        "        torch.manual_seed(seed)\n",
        "        self.device = torch.device(\"cuda\" if torch.cuda.is_available() else \"cpu\")\n",
        "        self.q_net = self.build_nn(layer_sizes).to(self.device)\n",
        "        self.target_net = copy.deepcopy(self.q_net).to(self.device)\n",
        "        self.loss_fn = torch.nn.MSELoss()\n",
        "        self.optimizer = torch.optim.Adam(self.q_net.parameters(), lr=lr)\n",
        "        \n",
        "        self.network_sync_freq = sync_freq\n",
        "        self.network_sync_counter = 0\n",
        "        self.gamma = torch.tensor(0.95).float().to(self.device)\n",
        "        self.experience_replay = deque(maxlen = exp_replay_size)  \n",
        "        return\n",
        "        \n",
        "    def build_nn(self, layer_sizes):\n",
        "        assert len(layer_sizes) > 1\n",
        "        layers = []\n",
        "        for index in range(len(layer_sizes)-1):\n",
        "            linear = nn.Linear(layer_sizes[index], layer_sizes[index+1])\n",
        "            act =    nn.Tanh() if index < len(layer_sizes)-2 else nn.Identity()\n",
        "            layers += (linear,act)\n",
        "        return nn.Sequential(*layers)\n",
        "    \n",
        "    def get_action(self, state, action_space_len, epsilon):\n",
        "        # We do not require gradient at this point, because this function will be used either\n",
        "        # during experience collection or during inference\n",
        "        with torch.no_grad():\n",
        "            if(type(state) == tuple):\n",
        "                state = state[0]\n",
        "            state_tensor = torch.tensor(state, dtype=torch.float32, device=self.device)\n",
        "            Qp = self.q_net(state_tensor)\n",
        "        Q,A = torch.max(Qp, axis=0)\n",
        "        A = A if torch.rand(1,).item() > epsilon else torch.randint(0,action_space_len,(1,))\n",
        "        return A\n",
        "    \n",
        "    def get_q_next(self, state):\n",
        "        with torch.no_grad():\n",
        "            qp = self.target_net(state.to(self.device))\n",
        "        q,_ = torch.max(qp, axis=1)    \n",
        "        return q\n",
        "    \n",
        "    def collect_experience(self, experience):\n",
        "        # print(experience)\n",
        "        self.experience_replay.append(experience)\n",
        "        return\n",
        "    \n",
        "    def sample_from_experience(self, sample_size):\n",
        "        if(len(self.experience_replay) < sample_size):\n",
        "            sample_size = len(self.experience_replay)   \n",
        "        sample = random.sample(self.experience_replay, sample_size)\n",
        "        s = torch.tensor([exp[0] for exp in sample], dtype=torch.float32, device=self.device)\n",
        "        a = torch.tensor([exp[1] for exp in sample], dtype=torch.float32, device=self.device)\n",
        "        rn = torch.tensor([exp[2] for exp in sample], dtype=torch.float32, device=self.device)\n",
        "        sn = torch.tensor([exp[3] for exp in sample], dtype=torch.float32, device=self.device)\n",
        "        return s, a, rn, sn\n",
        "    \n",
        "    def train(self, batch_size):\n",
        "        s, a, rn, sn = self.sample_from_experience(sample_size = batch_size)\n",
        "        if(self.network_sync_counter == self.network_sync_freq):\n",
        "            self.target_net.load_state_dict(self.q_net.state_dict())\n",
        "            self.network_sync_counter = 0\n",
        "        \n",
        "        # predict expected return of current state using main network\n",
        "        qp = self.q_net(s.to(self.device))\n",
        "        pred_return, _ = torch.max(qp, axis=1)\n",
        "        \n",
        "        # get target return using target network\n",
        "        q_next = self.get_q_next(sn.to(self.device))\n",
        "        target_return = rn.to(self.device) + self.gamma * q_next\n",
        "        \n",
        "        loss = self.loss_fn(pred_return, target_return)\n",
        "        self.optimizer.zero_grad()\n",
        "        loss.backward(retain_graph=True)\n",
        "        self.optimizer.step()\n",
        "        \n",
        "        self.network_sync_counter += 1       \n",
        "        return loss.item()"
      ]
    },
    {
      "cell_type": "markdown",
      "metadata": {
        "id": "RAi7KKwNiegR"
      },
      "source": [
        "For Task 1, we demonstrate the correctness of our implementation of the DQN Agent by sampling a random state from the cart pole environment, inputting to the agent, and outputting a chosen action."
      ]
    },
    {
      "cell_type": "code",
      "execution_count": null,
      "metadata": {
        "id": "2S-8eRLvAHzi"
      },
      "outputs": [],
      "source": [
        "# set agent parameters\n",
        "env = gym.make('CartPole-v1')\n",
        "input_dim = env.observation_space.shape[0]\n",
        "output_dim = env.action_space.n\n",
        "exp_replay_size = 256\n",
        "\n",
        "# initialize the DQN Agent\n",
        "agent = DQN_Agent(seed = 1423, layer_sizes = [input_dim, 64, output_dim], lr = 1e-3, sync_freq = 5, exp_replay_size = exp_replay_size)"
      ]
    },
    {
      "cell_type": "code",
      "execution_count": null,
      "metadata": {
        "colab": {
          "base_uri": "https://localhost:8080/"
        },
        "id": "ae2ia-vUiNKJ",
        "outputId": "b72503c1-079c-4855-c093-05da463345e0"
      },
      "outputs": [
        {
          "name": "stdout",
          "output_type": "stream",
          "text": [
            "Observation: [-0.04454378  0.00105716 -0.03860185 -0.01157455]\n",
            "Chosen action: 0\n"
          ]
        }
      ],
      "source": [
        "observation = env.reset()\n",
        "action = agent.get_action(observation, env.action_space.n, epsilon=1).item()\n",
        "print(\"Observation:\", observation)\n",
        "print(\"Chosen action:\", action)"
      ]
    },
    {
      "cell_type": "markdown",
      "metadata": {
        "id": "0geZGN9lKYHA"
      },
      "source": [
        "## Training Process of the DQN Agent"
      ]
    },
    {
      "cell_type": "markdown",
      "metadata": {
        "id": "phX0bSc-Ki6a"
      },
      "source": [
        "Before we proceed to Task 2, we first train the DQN Agent, which involves 3 major tasks.\n",
        "\n",
        "\n",
        "1.   Initializing experience Replay buffer\n",
        "2.   Training and updating DQN Agent\n",
        "3.   Saving model parameters"
      ]
    },
    {
      "cell_type": "markdown",
      "metadata": {
        "id": "UNwU7KfrE739"
      },
      "source": [
        "### 1. Experience Replay <br/>\n",
        "This part of the code fills the agent's experience replay buffer with initial experiences by executing random actions (epsilon is set to 1) in the environment. Once the buffer reaches the desired size, the loop stops, and the agent can then begin learning from these collected experiences. <br/><br/>\n",
        "Initializing the experience replay buffer before the training process provides the agent with a diverse set of experiences to learn from, promotes exploration, and improves the stability of the training process."
      ]
    },
    {
      "cell_type": "code",
      "execution_count": null,
      "metadata": {
        "id": "_rG2KtrVLJqf"
      },
      "outputs": [],
      "source": [
        "#1 Initilize experiance replay \n",
        "\n",
        "index = 0\n",
        "\n",
        "# The 'exp_replay_size' was previously initialized to 256, see Task 1.\n",
        "for i in range(exp_replay_size):\n",
        "    obs = env.reset()\n",
        "    done = False\n",
        "    while(done != True):\n",
        "        A = agent.get_action(obs, env.action_space.n, epsilon=1)\n",
        "        obs_next, reward, done, _= env.step(A.item())\n",
        "        # Check if the observation obs is a tuple; if so, extract the first element as the observation.\n",
        "        if type(obs)==tuple:\n",
        "            obs = obs[0]\n",
        "        # Call the agent's collect_experience method to store the experience in the form of [obs, action, reward, obs_next].\n",
        "        agent.collect_experience([obs, A.item(), reward, obs_next])\n",
        "        obs = obs_next\n",
        "        index += 1\n",
        "        if( index > exp_replay_size ):\n",
        "            break"
      ]
    },
    {
      "cell_type": "markdown",
      "metadata": {
        "id": "xmQu8mjDGHKN"
      },
      "source": [
        "### 2. Training and updating DQN <br/>\n",
        "The following code trains a DQN agent using an epsilon-greedy exploration strategy with a decaying epsilon value. The agent collects experiences, updates its policy using mini-batches from the experience replay buffer, and logs various performance metrics for analysis.\n"
      ]
    },
    {
      "cell_type": "code",
      "execution_count": null,
      "metadata": {
        "colab": {
          "base_uri": "https://localhost:8080/"
        },
        "id": "_fMlo1ydLRJ0",
        "outputId": "4ca23d26-5827-4812-80a7-da091f95885f"
      },
      "outputs": [
        {
          "name": "stderr",
          "output_type": "stream",
          "text": [
            "  0%|          | 0/10000 [00:00<?, ?it/s]<ipython-input-10-6f32628d4e4c>:60: UserWarning: Creating a tensor from a list of numpy.ndarrays is extremely slow. Please consider converting the list to a single numpy.ndarray with numpy.array() before converting to a tensor. (Triggered internally at ../torch/csrc/utils/tensor_new.cpp:230.)\n",
            "  s = torch.tensor([exp[0] for exp in sample], dtype=torch.float32, device=self.device)\n",
            "100%|██████████| 10000/10000 [07:18<00:00, 22.82it/s]\n"
          ]
        }
      ],
      "source": [
        "#2 Update DQN parameters\n",
        "\n",
        "# Import tqdm for displaying a progress bar during the training loop.\n",
        "from tqdm import tqdm\n",
        "\n",
        "# Set the parameters\n",
        "losses_list, reward_list, episode_len_list, epsilon_list  = [], [], [], []\n",
        "index = 128\n",
        "episodes = 10000\n",
        "epsilon = 1\n",
        "\n",
        "for i in tqdm(range(episodes)):\n",
        "    obs, done, losses, ep_len, rew = env.reset(), False, 0, 0, 0\n",
        "    while(done != True):\n",
        "        # This part is similar to the experiance replay\n",
        "        ep_len += 1 \n",
        "        A = agent.get_action(obs, env.action_space.n, epsilon)\n",
        "        obs_next, reward, done, _= env.step(A.item())\n",
        "        if type(obs)==tuple:\n",
        "            obs = obs[0]\n",
        "        agent.collect_experience([obs, A.item(), reward, obs_next])\n",
        "       \n",
        "        obs = obs_next\n",
        "        rew  += reward\n",
        "        index += 1\n",
        "\n",
        "        # Check if the index is greater than 128; \n",
        "        # if so, reset the index and train the agent with a batch of experiences for 4 iterations.\n",
        "        if(index > 128):\n",
        "            index = 0\n",
        "            for j in range(4):\n",
        "                loss = agent.train(batch_size=16)\n",
        "                losses += loss\n",
        "\n",
        "    # Update the epsilon value using a decay schedule. \n",
        "    # Decreasing epsilon by 1/5000 at each episode until it reaches 0.05. \n",
        "    if epsilon > 0.05 :\n",
        "        epsilon -= (1 / 5000)\n",
        "    \n",
        "    # Append the average loss, reward, episode length, and epsilon value for the current episode to their respective lists.\n",
        "    losses_list.append(losses/ep_len), reward_list.append(rew), episode_len_list.append(ep_len), epsilon_list.append(epsilon)"
      ]
    },
    {
      "cell_type": "markdown",
      "metadata": {
        "id": "b7GiCYLMHK-6"
      },
      "source": [
        "### 3. Save model parameters <br/>\n",
        "We save the models parameters to a .pth file for later loading"
      ]
    },
    {
      "cell_type": "code",
      "execution_count": null,
      "metadata": {
        "id": "QIsv-4ETMKr8"
      },
      "outputs": [],
      "source": [
        "#3 Save model parameters\n",
        "torch.save(agent.q_net.state_dict(), 'dqn_agent_params.pth')"
      ]
    },
    {
      "cell_type": "markdown",
      "metadata": {
        "id": "-XtIQ0Rti1gm"
      },
      "source": [
        "## Task 2: Demonstrate the effectiveness of the RL agent"
      ]
    },
    {
      "cell_type": "markdown",
      "metadata": {
        "id": "djBEShf0kGI4"
      },
      "source": [
        "For this task, we use the trained DQN agent to play the game for 100 episodes, record the cumulative reward for each round, and plot the reward for each round."
      ]
    },
    {
      "cell_type": "code",
      "execution_count": null,
      "metadata": {
        "id": "zJ7x6eJPMyPr"
      },
      "outputs": [],
      "source": [
        "# set the environment\n",
        "env = gym.make('CartPole-v1')"
      ]
    },
    {
      "cell_type": "code",
      "execution_count": null,
      "metadata": {
        "colab": {
          "base_uri": "https://localhost:8080/"
        },
        "id": "iLkE5d0WMvIT",
        "outputId": "6f9cc638-25c2-4b21-8279-e9772f47f86c"
      },
      "outputs": [
        {
          "data": {
            "text/plain": [
              "<All keys matched successfully>"
            ]
          },
          "execution_count": 33,
          "metadata": {},
          "output_type": "execute_result"
        }
      ],
      "source": [
        "# set the agent parameters\n",
        "input_dim = env.observation_space.shape[0]\n",
        "output_dim = env.action_space.n\n",
        "exp_replay_size = 256\n",
        "\n",
        "# initialize the DQN Agent as before\n",
        "agent = DQN_Agent(seed = 1423, layer_sizes = [input_dim, 64, output_dim], lr = 1e-3, sync_freq = 5, exp_replay_size = exp_replay_size)\n",
        "\n",
        "# load the model parameters from the trained agent\n",
        "agent.q_net.load_state_dict(torch.load('dqn_agent_params.pth'))"
      ]
    },
    {
      "cell_type": "code",
      "execution_count": null,
      "metadata": {
        "colab": {
          "base_uri": "https://localhost:8080/",
          "height": 1000
        },
        "id": "2kauhpCxFwom",
        "outputId": "51d05ea6-6269-4b21-a4e5-6510be0151f4"
      },
      "outputs": [
        {
          "name": "stdout",
          "output_type": "stream",
          "text": [
            "episode : 0, reward : 500.0\n",
            "episode : 1, reward : 500.0\n",
            "episode : 2, reward : 500.0\n",
            "episode : 3, reward : 500.0\n",
            "episode : 4, reward : 500.0\n",
            "episode : 5, reward : 500.0\n",
            "episode : 6, reward : 500.0\n",
            "episode : 7, reward : 500.0\n",
            "episode : 8, reward : 500.0\n",
            "episode : 9, reward : 500.0\n",
            "episode : 10, reward : 500.0\n",
            "episode : 11, reward : 500.0\n",
            "episode : 12, reward : 500.0\n",
            "episode : 13, reward : 500.0\n",
            "episode : 14, reward : 500.0\n",
            "episode : 15, reward : 500.0\n",
            "episode : 16, reward : 500.0\n",
            "episode : 17, reward : 500.0\n",
            "episode : 18, reward : 500.0\n",
            "episode : 19, reward : 500.0\n",
            "episode : 20, reward : 500.0\n",
            "episode : 21, reward : 500.0\n",
            "episode : 22, reward : 500.0\n",
            "episode : 23, reward : 500.0\n",
            "episode : 24, reward : 500.0\n",
            "episode : 25, reward : 500.0\n",
            "episode : 26, reward : 500.0\n",
            "episode : 27, reward : 500.0\n",
            "episode : 28, reward : 500.0\n",
            "episode : 29, reward : 500.0\n",
            "episode : 30, reward : 500.0\n",
            "episode : 31, reward : 500.0\n",
            "episode : 32, reward : 500.0\n",
            "episode : 33, reward : 500.0\n",
            "episode : 34, reward : 500.0\n",
            "episode : 35, reward : 500.0\n",
            "episode : 36, reward : 500.0\n",
            "episode : 37, reward : 500.0\n",
            "episode : 38, reward : 500.0\n",
            "episode : 39, reward : 500.0\n",
            "episode : 40, reward : 500.0\n",
            "episode : 41, reward : 500.0\n",
            "episode : 42, reward : 500.0\n",
            "episode : 43, reward : 500.0\n",
            "episode : 44, reward : 500.0\n",
            "episode : 45, reward : 500.0\n",
            "episode : 46, reward : 500.0\n",
            "episode : 47, reward : 500.0\n",
            "episode : 48, reward : 500.0\n",
            "episode : 49, reward : 500.0\n",
            "episode : 50, reward : 500.0\n",
            "episode : 51, reward : 500.0\n",
            "episode : 52, reward : 500.0\n",
            "episode : 53, reward : 500.0\n",
            "episode : 54, reward : 500.0\n",
            "episode : 55, reward : 500.0\n",
            "episode : 56, reward : 500.0\n",
            "episode : 57, reward : 500.0\n",
            "episode : 58, reward : 500.0\n",
            "episode : 59, reward : 500.0\n",
            "episode : 60, reward : 500.0\n",
            "episode : 61, reward : 500.0\n",
            "episode : 62, reward : 500.0\n",
            "episode : 63, reward : 500.0\n",
            "episode : 64, reward : 500.0\n",
            "episode : 65, reward : 500.0\n",
            "episode : 66, reward : 500.0\n",
            "episode : 67, reward : 500.0\n",
            "episode : 68, reward : 500.0\n",
            "episode : 69, reward : 500.0\n",
            "episode : 70, reward : 500.0\n",
            "episode : 71, reward : 500.0\n",
            "episode : 72, reward : 500.0\n",
            "episode : 73, reward : 500.0\n",
            "episode : 74, reward : 500.0\n",
            "episode : 75, reward : 500.0\n",
            "episode : 76, reward : 500.0\n",
            "episode : 77, reward : 500.0\n",
            "episode : 78, reward : 500.0\n",
            "episode : 79, reward : 500.0\n",
            "episode : 80, reward : 500.0\n",
            "episode : 81, reward : 500.0\n",
            "episode : 82, reward : 500.0\n",
            "episode : 83, reward : 500.0\n",
            "episode : 84, reward : 500.0\n",
            "episode : 85, reward : 500.0\n",
            "episode : 86, reward : 500.0\n",
            "episode : 87, reward : 500.0\n",
            "episode : 88, reward : 500.0\n",
            "episode : 89, reward : 500.0\n",
            "episode : 90, reward : 500.0\n",
            "episode : 91, reward : 500.0\n",
            "episode : 92, reward : 500.0\n",
            "episode : 93, reward : 500.0\n",
            "episode : 94, reward : 500.0\n",
            "episode : 95, reward : 500.0\n",
            "episode : 96, reward : 500.0\n",
            "episode : 97, reward : 500.0\n",
            "episode : 98, reward : 500.0\n",
            "episode : 99, reward : 500.0\n"
          ]
        },
        {
          "data": {
            "image/png": "[encoded data removed]",
            "text/plain": [
              "<Figure size 432x288 with 1 Axes>"
            ]
          },
          "metadata": {
            "needs_background": "light"
          },
          "output_type": "display_data"
        }
      ],
      "source": [
        "# initialize the cumulative reward list\n",
        "episode_rewards = []\n",
        "\n",
        "# play 100 episodes and record the reward for each episode \n",
        "for i in range(100):\n",
        "    obs, done, rew = env.reset(), False, 0\n",
        "    while (done != True) :\n",
        "        A =  agent.get_action(obs, env.action_space.n, epsilon = 0)\n",
        "        obs, reward, done, info = env.step(A.item())\n",
        "        rew += reward\n",
        "    episode_rewards.append(rew) \n",
        "    print(\"episode : {}, reward : {}\".format(i,rew))\n",
        "\n",
        "plt.plot(episode_rewards)\n",
        "plt.title('Cumulative reward for each episode')\n",
        "plt.ylabel('Cumulative reward')\n",
        "plt.xlabel('Episode')\n",
        "plt.show()"
      ]
    },
    {
      "cell_type": "code",
      "execution_count": null,
      "metadata": {
        "colab": {
          "base_uri": "https://localhost:8080/"
        },
        "id": "pOiOp9OYlo5Y",
        "outputId": "bcead2b8-bd32-4fb5-c31a-a69a3e482bd1"
      },
      "outputs": [
        {
          "name": "stdout",
          "output_type": "stream",
          "text": [
            "Average cumulative reward: 500.0\n",
            "Is my agent good enough? True\n"
          ]
        }
      ],
      "source": [
        "print(\"Average cumulative reward:\", numpy.mean(episode_rewards))\n",
        "print(\"Is my agent good enough?\", numpy.mean(episode_rewards) > 195)"
      ]
    },
    {
      "cell_type": "markdown",
      "metadata": {
        "id": "Yg0DCT38lFA6"
      },
      "source": [
        "## Task 3: Render one episode played by the agent"
      ]
    },
    {
      "cell_type": "markdown",
      "metadata": {
        "id": "vx1awMr9lc_w"
      },
      "source": [
        "We plug our agent to the code below to obtain the rendered result."
      ]
    },
    {
      "cell_type": "code",
      "execution_count": null,
      "metadata": {
        "colab": {
          "base_uri": "https://localhost:8080/",
          "height": 421
        },
        "id": "LYyavfbIa47D",
        "outputId": "8013cddd-ded4-4302-8ac5-9d253059a751"
      },
      "outputs": [
        {
          "data": {
            "text/html": [
              "<video alt=\"test\" autoplay \n",
              "                loop controls style=\"height: 400px;\">\n",
              "                <source src=\"data:video/mp4;base64,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\" type=\"video/mp4\" />\n",
              "             </video>"
            ],
            "text/plain": [
              "<IPython.core.display.HTML object>"
            ]
          },
          "metadata": {},
          "output_type": "display_data"
        }
      ],
      "source": [
        "env = RecordVideo(gym.make(\"CartPole-v1\"), \"./video\")\n",
        "observation = env.reset()\n",
        "while True:\n",
        "    env.render()\n",
        "    # our agent goes here\n",
        "    action = agent.get_action(observation, env.action_space.n, epsilon = 0).item()\n",
        "    observation, reward, done, info = env.step(action) \n",
        "    if done: \n",
        "      break;    \n",
        "env.close()\n",
        "show_video()"
      ]
    }
  ],
  "metadata": {
    "colab": {
      "collapsed_sections": [
        "ehbqP9CXbmo7"
      ],
      "provenance": []
    },
    "kernelspec": {
      "display_name": "Python 3",
      "name": "python3"
    },
    "language_info": {
      "name": "python"
    }
  },
  "nbformat": 4,
  "nbformat_minor": 0
}
