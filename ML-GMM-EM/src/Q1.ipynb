{
 "cells": [
  {
   "cell_type": "code",
   "execution_count": 2,
   "metadata": {
    "ExecuteTime": {
     "end_time": "2022-12-14T18:48:49.062811Z",
     "start_time": "2022-12-14T18:48:48.043007Z"
    },
    "id": "1iqonIcm7ofg"
   },
   "outputs": [],
   "source": [
    "import numpy as np\n",
    "from scipy.stats import multivariate_normal\n",
    "import matplotlib.pyplot as plt\n",
    "from sklearn.metrics import pairwise_distances"
   ]
  },
  {
   "cell_type": "code",
   "execution_count": 3,
   "metadata": {
    "ExecuteTime": {
     "end_time": "2022-12-14T18:48:49.607479Z",
     "start_time": "2022-12-14T18:48:49.594715Z"
    }
   },
   "outputs": [],
   "source": [
    "def Euclidean_Distance(x, y):\n",
    "    return np.sqrt(np.sum((x - y) ** 2))"
   ]
  },
  {
   "cell_type": "code",
   "execution_count": 4,
   "metadata": {
    "ExecuteTime": {
     "end_time": "2022-12-14T18:48:50.433629Z",
     "start_time": "2022-12-14T18:48:50.420034Z"
    },
    "id": "-9vgoGhY4X4y"
   },
   "outputs": [],
   "source": [
    "def K_Means(data, k, max_iter=100):\n",
    "    if k <= 1 or (len(data) < k):\n",
    "        return\n",
    "\n",
    "    # choose cluster centroids randomly\n",
    "    centroids = data[np.random.choice(data.shape[0], k)]\n",
    "    \n",
    "    for i in range(max_iter):\n",
    "        \n",
    "        # Calculate the Euclidean distance between each data point and each centroid\n",
    "        distances = []\n",
    "        for x in data:\n",
    "            row = []\n",
    "            for c in centroids:\n",
    "                row.append(Euclidean_Distance(x, c))\n",
    "            distances.append(row)\n",
    "        distances = np.array(distances)\n",
    "  \n",
    "        # assign data points to the closest cluster\n",
    "        labels = np.argmin(distances, axis=1)\n",
    "\n",
    "        # update cluster centroids\n",
    "        new_centroids = []\n",
    "        for j in range(k):\n",
    "            data_points = data[labels == j]\n",
    "            mean = data_points.mean(axis=0)\n",
    "            new_centroids.append(mean)\n",
    "        new_centroids = np.array(new_centroids)\n",
    "\n",
    "        # check if converges\n",
    "        if np.allclose(new_centroids, centroids):\n",
    "              break\n",
    "\n",
    "        centroids = new_centroids\n",
    "\n",
    "    return centroids, labels"
   ]
  },
  {
   "cell_type": "code",
   "execution_count": 5,
   "metadata": {
    "ExecuteTime": {
     "end_time": "2022-12-14T18:48:50.917029Z",
     "start_time": "2022-12-14T18:48:50.900624Z"
    }
   },
   "outputs": [],
   "source": [
    "def simple_visualize(X, labels, centroids):\n",
    "    # Create a scatter plot of the data points\n",
    "    plt.scatter(X[:, 0], X[:, 1], c=labels, s=50)\n",
    "\n",
    "    # Mark the centroids with a star\n",
    "    plt.scatter(centroids[:, 0], centroids[:, 1], marker='*', c=\"red\", s=200)\n",
    "\n",
    "    # Show the plot\n",
    "    plt.show()"
   ]
  },
  {
   "cell_type": "code",
   "execution_count": 6,
   "metadata": {
    "ExecuteTime": {
     "end_time": "2022-12-14T18:48:51.368950Z",
     "start_time": "2022-12-14T18:48:51.348951Z"
    }
   },
   "outputs": [],
   "source": [
    "def E_step(data, mu, cov, pi):\n",
    "    num_clusters = mu.shape[0]\n",
    "    r = np.zeros((data.shape[0], num_clusters))\n",
    "    \n",
    "    # Estimate the probabilities that each data point belongs to each cluster\n",
    "    for k in range(num_clusters):\n",
    "        mu_k = mu[k, :]\n",
    "        cov_k = cov[k, :, :]\n",
    "        pi_k = pi[k]\n",
    "        r[:, k] = pi_k * multivariate_normal.pdf(data, mu_k, cov_k, allow_singular=True)\n",
    "        \n",
    "    # Since the old pi is fixed, so we can calculate the numerators first and then divide \n",
    "    # Similar to the softmax function    \n",
    "    r /= r.sum(axis=1, keepdims=True)\n",
    "    \n",
    "    return r\n",
    "\n",
    "def M_step(data, r):\n",
    "    num_clusters = r.shape[1]\n",
    "    n, dims = data.shape\n",
    "    \n",
    "    mu = np.zeros((num_clusters, dims))\n",
    "    cov = np.zeros((num_clusters, dims, dims))\n",
    "    pi = np.zeros(num_clusters)\n",
    "    \n",
    "    # Update pi \n",
    "    N_k = np.sum(r, axis=0)\n",
    "    pi = N_k / n\n",
    "    for k in range(num_clusters):\n",
    "        # Update mu\n",
    "        mu[k, :] = (r[:, k].dot(data)) / N_k[k]\n",
    "\n",
    "        # Update sigma (cov)\n",
    "        # Note that the shape of the covariance matrix for cluster k should be m x m \n",
    "        # Note that a small epsilon residue is added to cov_k is guarantee PSD        \n",
    "        centered_data = data - mu[k, :]\n",
    "        weighted_cov_i = np.array([r[i][k] * centered_data[i,:] for i in range(n)]) \n",
    "        weighted_cov_sum = np.matmul(weighted_cov_i.T, centered_data)\n",
    "        cov[k, :, :] = (weighted_cov_sum / N_k[k]) + (1e-7) * np.eye(dims)\n",
    "        \n",
    "    return mu, cov, pi\n",
    "\n",
    "\n",
    "def GMM_EM(data, num_clusters, max_iter=100, tol=1e-5):\n",
    "    # Initialize the model parameters\n",
    "    n, dims = np.shape(data)\n",
    "    mu = np.random.rand(num_clusters, dims)\n",
    "    cov = np.zeros((num_clusters, dims, dims))\n",
    "    r = np.zeros((n, num_clusters))\n",
    "    for i in range(num_clusters):\n",
    "        cov[i, :, :] = np.eye(dims)\n",
    "    pi = np.ones(num_clusters) / num_clusters\n",
    "    \n",
    "    log_likelihood = None\n",
    "    \n",
    "    for count in range(max_iter):\n",
    "        # E-Step: update posterior probability\n",
    "        r = E_step(data, mu, cov, pi)\n",
    "        # M-Step: update model parameters\n",
    "        mu, cov, pi = M_step(data, r)\n",
    "        \n",
    "        # Compute the log-likelihood\n",
    "        log_likelihood_new = 0\n",
    "        for k in range(num_clusters):\n",
    "            mu_k = mu[k, :]\n",
    "            cov_k = cov[k, :, :]\n",
    "            pi_k = pi[k]\n",
    "            log_likelihood_new += pi_k * multivariate_normal(mu_k, cov_k, allow_singular=True).pdf(data)\n",
    "\n",
    "        \n",
    "        # Sum of n samples' log likehood\n",
    "        log_likelihood_new = np.log(log_likelihood_new).sum()\n",
    "\n",
    "        # Check for convergence\n",
    "        if log_likelihood is not None and abs(log_likelihood_new - log_likelihood) < tol:\n",
    "            break\n",
    "        else:\n",
    "            log_likelihood = log_likelihood_new\n",
    "\n",
    "    # Return the predicted labels\n",
    "    return np.argmax(r, axis=1)"
   ]
  },
  {
   "cell_type": "code",
   "execution_count": 7,
   "metadata": {
    "ExecuteTime": {
     "end_time": "2022-12-14T18:48:52.008213Z",
     "start_time": "2022-12-14T18:48:52.001698Z"
    }
   },
   "outputs": [],
   "source": [
    "def silhouette_coefficient(X, labels):\n",
    "    # Calculate pairwise distances between samples\n",
    "    distances = pairwise_distances(X)\n",
    "\n",
    "    # Calculate the silhouette coefficient for each sample\n",
    "    sc = []\n",
    "\n",
    "    for i in range(len(X)):\n",
    "        # Get the label for the current sample\n",
    "        cluster = labels[i]\n",
    "\n",
    "        outer_dist = dict()\n",
    "        dist_counter = dict()\n",
    "        for c in set(labels):\n",
    "            outer_dist[c] = 0\n",
    "            dist_counter[c] = 0\n",
    "\n",
    "        # Calculate the average distance to all other samples in the same cluster\n",
    "        intra_distance = []\n",
    "        for j in range(len(X)):\n",
    "            if labels[j] == cluster:\n",
    "                intra_distance.append(distances[i, j])\n",
    "            else:\n",
    "                outer_dist[labels[j]] += distances[i, j]\n",
    "                dist_counter[labels[j]] += 1\n",
    "        a = np.mean(intra_distance)\n",
    "        \n",
    "        # Calculate the average distance to the nearest cluster\n",
    "        mean_cluster_distance = []\n",
    "        if len(set(labels)) == 1:\n",
    "            b = 0\n",
    "        else: \n",
    "            for key, values in outer_dist.items():\n",
    "                if key != cluster:\n",
    "                    mean_cluster_distance.append(values / dist_counter[key])\n",
    "            try: \n",
    "                b = np.amin(mean_cluster_distance)\n",
    "            except:\n",
    "                print(\"Unexpected fault:\")\n",
    "                print(\"labels: \", labels)\n",
    "                print(\"mean_outer_cluster_distance: \", mean_cluster_distance)\n",
    "                b = 0\n",
    "\n",
    "        silhouette_coefficient = (b - a) / max(a, b)\n",
    "        sc.append(silhouette_coefficient)\n",
    "        \n",
    "    return np.mean(sc)"
   ]
  },
  {
   "cell_type": "code",
   "execution_count": 8,
   "metadata": {
    "ExecuteTime": {
     "end_time": "2022-12-14T18:48:52.475211Z",
     "start_time": "2022-12-14T18:48:52.467254Z"
    },
    "id": "_m1nfPlUDmx8"
   },
   "outputs": [],
   "source": [
    "def rand_index(labels_true, labels_pred):\n",
    "    # Compute the number of pairs of points\n",
    "    num_pairs = labels_true.shape[0] * (labels_true.shape[0] - 1) // 2\n",
    "    \n",
    "    # Compute the number of pairs of points that are in the same cluster in both the true and predicted labels\n",
    "    pairs = 0\n",
    "    for i in range(labels_true.shape[0]):\n",
    "        for j in range(i+1, labels_true.shape[0]):\n",
    "            if labels_true[i] == labels_true[j] and labels_pred[i] == labels_pred[j]:\n",
    "                pairs += 1\n",
    "            elif labels_true[i] != labels_true[j] and labels_pred[i] != labels_pred[j]:\n",
    "                pairs += 1\n",
    "    \n",
    "    # Compute the rand index\n",
    "    return pairs / num_pairs"
   ]
  },
  {
   "cell_type": "code",
   "execution_count": 9,
   "metadata": {
    "ExecuteTime": {
     "end_time": "2022-12-14T18:48:53.019827Z",
     "start_time": "2022-12-14T18:48:53.002231Z"
    }
   },
   "outputs": [],
   "source": [
    "# Data preparation\n",
    "\n",
    "data = np.loadtxt(\"./seeds_dataset.txt\", dtype=float)\n",
    "X_train, gt_label = np.split(data, [7], axis=1)"
   ]
  },
  {
   "cell_type": "code",
   "execution_count": 10,
   "metadata": {
    "ExecuteTime": {
     "end_time": "2022-12-14T18:48:53.964971Z",
     "start_time": "2022-12-14T18:48:53.707868Z"
    },
    "id": "CKXbFoV27ji6",
    "scrolled": false
   },
   "outputs": [
    {
     "data": {
      "image/png": "[encoded data removed]",
      "text/plain": [
       "<Figure size 432x288 with 1 Axes>"
      ]
     },
     "metadata": {
      "needs_background": "light"
     },
     "output_type": "display_data"
    },
    {
     "data": {
      "image/png": "[encoded data removed]",
      "text/plain": [
       "<Figure size 432x288 with 1 Axes>"
      ]
     },
     "metadata": {
      "needs_background": "light"
     },
     "output_type": "display_data"
    },
    {
     "name": "stdout",
     "output_type": "stream",
     "text": [
      "[0 0 0 0 0 0 0 0 0 0 0 0 0 0 0 0 2 0 0 2 0 0 0 0 0 0 2 0 0 0 0 0 0 0 0 0 0\n",
      " 1 0 2 0 0 0 0 0 0 0 0 0 0 0 0 0 0 0 0 0 0 0 0 2 2 2 2 0 0 0 0 0 2 1 1 1 1\n",
      " 1 1 1 1 1 1 1 1 1 1 1 1 1 1 1 1 1 1 1 1 1 1 1 1 1 1 0 1 1 1 1 1 1 1 1 1 1\n",
      " 1 1 1 1 1 1 1 1 1 1 1 0 1 0 1 1 1 1 1 1 1 0 0 0 0 1 0 0 0 2 2 2 2 2 2 2 2\n",
      " 2 2 2 2 2 2 2 2 2 2 2 2 2 2 2 2 2 2 2 2 2 2 2 2 2 2 2 2 2 2 2 0 2 2 2 2 2\n",
      " 2 2 2 2 2 2 2 2 2 2 2 2 2 2 2 2 0 2 2 2 2 2 2 2 2]\n"
     ]
    }
   ],
   "source": [
    "# K-Means with k=3\n",
    "\n",
    "km_centroids, km_labels = K_Means(X_train, 3)\n",
    "simple_visualize(X_train, km_labels, km_centroids)\n",
    "simple_visualize(X_train, gt_label, km_centroids)\n",
    "# print(centroids)\n",
    "print(km_labels)\n",
    "# print(gt_label)"
   ]
  },
  {
   "cell_type": "code",
   "execution_count": 20,
   "metadata": {
    "ExecuteTime": {
     "end_time": "2022-12-14T18:53:26.884066Z",
     "start_time": "2022-12-14T18:53:26.717160Z"
    },
    "id": "sHH4zVsC-EY5"
   },
   "outputs": [
    {
     "name": "stdout",
     "output_type": "stream",
     "text": [
      "[0 0 0 0 2 0 0 0 2 2 0 0 0 0 0 0 0 2 0 1 0 0 2 1 0 2 0 0 0 0 0 0 0 0 0 2 2\n",
      " 2 0 0 0 0 0 2 0 0 0 0 0 0 0 2 0 0 0 0 0 0 0 0 1 1 1 0 0 0 0 0 0 1 2 2 2 2\n",
      " 2 2 2 2 2 2 2 2 2 2 2 2 2 2 2 2 2 2 2 2 2 2 2 2 2 2 2 2 2 2 2 2 2 2 2 2 2\n",
      " 2 2 2 2 2 2 2 2 2 2 2 2 2 2 2 2 2 2 2 2 2 0 2 2 2 2 0 0 2 1 1 1 1 1 1 1 1\n",
      " 1 1 1 1 1 1 1 1 1 1 1 1 1 1 1 1 1 1 1 1 1 1 1 1 1 1 1 1 1 1 1 1 1 1 1 1 1\n",
      " 1 1 1 1 1 1 1 1 1 1 1 1 0 1 0 1 0 1 1 1 1 1 1 1 1]\n"
     ]
    }
   ],
   "source": [
    "# EM-GMM with k=3\n",
    "\n",
    "em_labels = GMM_EM(X_train, 3)\n",
    "# print(gt_label)\n",
    "print(em_labels)"
   ]
  },
  {
   "cell_type": "code",
   "execution_count": 21,
   "metadata": {
    "ExecuteTime": {
     "end_time": "2022-12-14T18:53:27.729660Z",
     "start_time": "2022-12-14T18:53:27.656379Z"
    }
   },
   "outputs": [
    {
     "name": "stdout",
     "output_type": "stream",
     "text": [
      "Silhouette Coefficient for K-Means:  0.47943599429227524\n",
      "Silhouette Coefficient for EM-GMM:  0.4243984873123935\n"
     ]
    }
   ],
   "source": [
    "# Performance Evaluation\n",
    "# from sklearn.metrics import silhouette_score\n",
    "# score = silhouette_score(X_train, em_labels)\n",
    "# print(score)\n",
    "\n",
    "\n",
    "print(\"Silhouette Coefficient for K-Means: \",silhouette_coefficient(X_train, km_labels))\n",
    "print(\"Silhouette Coefficient for EM-GMM: \",silhouette_coefficient(X_train, em_labels))"
   ]
  },
  {
   "cell_type": "code",
   "execution_count": 22,
   "metadata": {
    "ExecuteTime": {
     "end_time": "2022-12-14T18:53:29.240908Z",
     "start_time": "2022-12-14T18:53:29.177178Z"
    }
   },
   "outputs": [
    {
     "name": "stdout",
     "output_type": "stream",
     "text": [
      "Rand Index for K-Means:  0.8743677375256322\n",
      "Rand Index for EM-GMM:  0.8708133971291866\n"
     ]
    }
   ],
   "source": [
    "print(\"Rand Index for K-Means: \", rand_index(km_labels, gt_label))\n",
    "print(\"Rand Index for EM-GMM: \", rand_index(em_labels, gt_label))"
   ]
  },
  {
   "cell_type": "code",
   "execution_count": 23,
   "metadata": {
    "ExecuteTime": {
     "end_time": "2022-12-14T18:53:58.877803Z",
     "start_time": "2022-12-14T18:53:34.213211Z"
    }
   },
   "outputs": [
    {
     "name": "stdout",
     "output_type": "stream",
     "text": [
      "Trying 100 times\n",
      "Sensitivity of K-Means to random initialization:\n",
      "std_1(silhouette_coeff) = 0.1470300732021276 std_2(rand_idx) = 0.054022234889743205\n",
      "\n",
      "Sensitivity of GMM-EM to random initialization.\n",
      "std_1(silhouette_coeff) = 0.14005353473730722 std_2(rand_idx) = 0.13567693529792876\n",
      "\n",
      "Average performance score:\n",
      "K-Means: silhouette_coeff = 0.4628142977263458 rand_idx = 0.8674518113465481\n",
      "GMM-EM: silhouette_coeff = 0.2719704191917034 rand_idx = 0.7445340624287994\n"
     ]
    }
   ],
   "source": [
    "# Sensitivity analysis\n",
    "\n",
    "import warnings\n",
    "warnings.filterwarnings('ignore')\n",
    "\n",
    "\n",
    "km_silh = []\n",
    "km_rand = []\n",
    "em_silh = []\n",
    "em_rand = []\n",
    "for i in range (100):\n",
    "    em_labels = GMM_EM(X_train, 3)\n",
    "    km_centroids, km_labels = K_Means(X_train, 3)\n",
    "    km_silh.append(silhouette_coefficient(X_train, km_labels))\n",
    "    km_rand.append(rand_index(km_labels, gt_label))\n",
    "    em_silh.append(silhouette_coefficient(X_train, em_labels))\n",
    "    em_rand.append(rand_index(em_labels, gt_label))\n",
    "    \n",
    "km_silh_std = np.std(km_silh)\n",
    "km_rand_std = np.std(km_rand)\n",
    "em_silh_std = np.std(em_silh)\n",
    "em_rand_std = np.std(em_rand)\n",
    "\n",
    "km_silh_avg = np.mean(km_silh)\n",
    "km_rand_avg = np.mean(km_rand)\n",
    "em_silh_avg = np.mean(em_silh)\n",
    "em_rand_avg = np.mean(em_rand)\n",
    "\n",
    "print(\"Trying 100 times\")\n",
    "print(\"Sensitivity of K-Means to random initialization:\")\n",
    "print(\"std_1(silhouette_coeff) =\", km_silh_std, \"std_2(rand_idx) =\", km_rand_std)\n",
    "print(\"\\nSensitivity of GMM-EM to random initialization.\")\n",
    "print(\"std_1(silhouette_coeff) =\", em_silh_std, \"std_2(rand_idx) =\", em_rand_std)\n",
    "\n",
    "print(\"\\nAverage performance score:\")\n",
    "print(\"K-Means: silhouette_coeff =\", km_silh_avg, \"rand_idx =\", km_rand_avg)\n",
    "print(\"GMM-EM: silhouette_coeff =\", em_silh_avg, \"rand_idx =\", em_rand_avg)"
   ]
  },
  {
   "cell_type": "code",
   "execution_count": null,
   "metadata": {},
   "outputs": [],
   "source": []
  }
 ],
 "metadata": {
  "colab": {
   "provenance": []
  },
  "kernelspec": {
   "display_name": "Python 3 (ipykernel)",
   "language": "python",
   "name": "python3"
  },
  "language_info": {
   "codemirror_mode": {
    "name": "ipython",
    "version": 3
   },
   "file_extension": ".py",
   "mimetype": "text/x-python",
   "name": "python",
   "nbconvert_exporter": "python",
   "pygments_lexer": "ipython3",
   "version": "3.10.2"
  },
  "toc": {
   "base_numbering": 1,
   "nav_menu": {},
   "number_sections": true,
   "sideBar": true,
   "skip_h1_title": false,
   "title_cell": "Table of Contents",
   "title_sidebar": "Contents",
   "toc_cell": false,
   "toc_position": {},
   "toc_section_display": true,
   "toc_window_display": false
  }
 },
 "nbformat": 4,
 "nbformat_minor": 1
}
