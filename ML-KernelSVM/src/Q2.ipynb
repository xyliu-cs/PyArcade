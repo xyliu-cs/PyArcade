{
 "cells": [
  {
   "cell_type": "code",
   "execution_count": 11,
   "id": "cc1c8577",
   "metadata": {
    "ExecuteTime": {
     "end_time": "2022-11-06T08:14:36.543837Z",
     "start_time": "2022-11-06T08:14:36.536326Z"
    }
   },
   "outputs": [],
   "source": [
    "import numpy as np\n",
    "import pandas as pd\n",
    "from sklearn.svm import SVC\n",
    "from sklearn.multiclass import OneVsRestClassifier as OVR"
   ]
  },
  {
   "cell_type": "code",
   "execution_count": 12,
   "id": "a422d740",
   "metadata": {
    "ExecuteTime": {
     "end_time": "2022-11-06T08:14:37.197644Z",
     "start_time": "2022-11-06T08:14:37.193639Z"
    }
   },
   "outputs": [],
   "source": [
    "def transform_y(y_t, class_num):\n",
    "    # print(class_num)\n",
    "    y = np.array(y_t)\n",
    "    y[y == class_num] = -1\n",
    "    y[y != -1] = 1\n",
    "    return y"
   ]
  },
  {
   "cell_type": "code",
   "execution_count": 13,
   "id": "0fd092ef",
   "metadata": {
    "ExecuteTime": {
     "end_time": "2022-11-06T08:14:37.807500Z",
     "start_time": "2022-11-06T08:14:37.792497Z"
    }
   },
   "outputs": [],
   "source": [
    "def calc_slack(plane, svid):\n",
    "    slack = np.zeros_like(plane)\n",
    "    for i in svid:\n",
    "        # round to 2-digit right to the decimal point\n",
    "        slack[i] = np.around(abs(1-plane[i]), 3)  \n",
    "    return slack"
   ]
  },
  {
   "cell_type": "code",
   "execution_count": 14,
   "id": "ca2ef6d7",
   "metadata": {
    "ExecuteTime": {
     "end_time": "2022-11-06T08:14:38.592399Z",
     "start_time": "2022-11-06T08:14:38.581369Z"
    }
   },
   "outputs": [],
   "source": [
    "# -------------data preparation-------------\n",
    "df_train = pd.read_table(\"train.txt\")\n",
    "df_test = pd.read_table(\"test.txt\")\n",
    "# print(df)\n",
    "data_train = df_train.to_numpy()\n",
    "data_test = df_test.to_numpy()\n",
    "\n",
    "x_train = np.delete(data_train, [0], axis=1)\n",
    "y_train = data_train[:, 0]\n",
    "\n",
    "x_test = np.delete(data_test, [0], axis=1)\n",
    "y_test = data_test[:, 0]\n",
    "\n",
    "y_train_Setosa = transform_y(y_train, 0)\n",
    "y_train_Versicolour = transform_y(y_train, 1)\n",
    "y_train_Virginica = transform_y(y_train, 2)\n",
    "\n",
    "y_class = [y_train_Setosa, y_train_Versicolour, y_train_Virginica]"
   ]
  },
  {
   "cell_type": "code",
   "execution_count": 15,
   "id": "81cc1e07",
   "metadata": {
    "ExecuteTime": {
     "end_time": "2022-11-06T08:14:43.104250Z",
     "start_time": "2022-11-06T08:14:43.028006Z"
    }
   },
   "outputs": [],
   "source": [
    "# -------------SVM Modelling-------------\n",
    "with open(\"SVM_slack.txt\", 'w') as f:\n",
    "    for i in range(1, 11):\n",
    "        my_C = i/10\n",
    "        ovr_clf = OVR(SVC(C=my_C, kernel=\"linear\")).fit(x_train, y_train)\n",
    "        training_error = 1 - ovr_clf.score(x_train, y_train)\n",
    "        testing_error = 1 - ovr_clf.score(x_test, y_test)\n",
    "#         print(\"\\nC =\", my_C)\n",
    "#         print(training_error)\n",
    "#         print(testing_error)\n",
    "        \n",
    "        f.write(\"C:\")\n",
    "        f.write(str(my_C))\n",
    "        f.write(\"\\n\")\n",
    "        f.write(str(training_error))\n",
    "        f.write(\"\\n\")\n",
    "        f.write(str(testing_error))\n",
    "        f.write(\"\\n\")\n",
    "\n",
    "        for j in y_class:\n",
    "            clf = SVC(C=my_C, kernel=\"linear\").fit(x_train, j)\n",
    "            w = clf.coef_[0]\n",
    "            b = clf.intercept_[0]\n",
    "            svc_num = clf.n_support_[0]\n",
    "            svid = np.sort(np.array(clf.support_[:]), axis = None)\n",
    "            __plane = clf.decision_function(x_train) * j\n",
    "            slack = calc_slack(__plane, svid)\n",
    "\n",
    "            w_ = ', '.join([str(k) for k in w])\n",
    "            f.write(w_)\n",
    "            f.write(\"\\n\")\n",
    "            f.write(str(b))\n",
    "            f.write(\"\\n\")\n",
    "            id1 = ', '.join([str(k) for k in svid])\n",
    "            f.write(id1)\n",
    "            f.write(\"\\n\")\n",
    "            slk = ', '.join([str(k) for k in slack])\n",
    "            f.write(slk)\n",
    "            f.write(\"\\n\")\n",
    "        f.write(\"\\n\")\n",
    "        f.write(\"\\n\")\n",
    "\n",
    "        \n",
    "f.close()"
   ]
  },
  {
   "cell_type": "code",
   "execution_count": null,
   "id": "43a6ba1e",
   "metadata": {},
   "outputs": [],
   "source": []
  }
 ],
 "metadata": {
  "kernelspec": {
   "display_name": "Python 3 (ipykernel)",
   "language": "python",
   "name": "python3"
  },
  "language_info": {
   "codemirror_mode": {
    "name": "ipython",
    "version": 3
   },
   "file_extension": ".py",
   "mimetype": "text/x-python",
   "name": "python",
   "nbconvert_exporter": "python",
   "pygments_lexer": "ipython3",
   "version": "3.10.2"
  },
  "toc": {
   "base_numbering": 1,
   "nav_menu": {},
   "number_sections": true,
   "sideBar": true,
   "skip_h1_title": false,
   "title_cell": "Table of Contents",
   "title_sidebar": "Contents",
   "toc_cell": false,
   "toc_position": {},
   "toc_section_display": true,
   "toc_window_display": false
  }
 },
 "nbformat": 4,
 "nbformat_minor": 5
}
