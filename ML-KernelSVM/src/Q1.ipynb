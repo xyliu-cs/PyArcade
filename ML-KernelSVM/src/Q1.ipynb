{
 "cells": [
  {
   "cell_type": "code",
   "execution_count": 6,
   "id": "73013042",
   "metadata": {
    "ExecuteTime": {
     "end_time": "2022-11-06T08:12:55.394556Z",
     "start_time": "2022-11-06T08:12:55.387026Z"
    }
   },
   "outputs": [],
   "source": [
    "import numpy as np\n",
    "import pandas as pd\n",
    "from sklearn.svm import SVC\n",
    "from sklearn.multiclass import OneVsRestClassifier as OVR"
   ]
  },
  {
   "cell_type": "code",
   "execution_count": 7,
   "id": "21656709",
   "metadata": {
    "ExecuteTime": {
     "end_time": "2022-11-06T08:12:56.111300Z",
     "start_time": "2022-11-06T08:12:56.101761Z"
    }
   },
   "outputs": [],
   "source": [
    "def transform_y(y_t, class_num):\n",
    "    # print(class_num)\n",
    "    y = np.array(y_t)\n",
    "    y[y == class_num] = -1\n",
    "    y[y != -1] = 1\n",
    "    return y"
   ]
  },
  {
   "cell_type": "code",
   "execution_count": 8,
   "id": "32c2b622",
   "metadata": {
    "ExecuteTime": {
     "end_time": "2022-11-06T08:12:56.907972Z",
     "start_time": "2022-11-06T08:12:56.886456Z"
    }
   },
   "outputs": [],
   "source": [
    "# -------------data preparation-------------\n",
    "df_train = pd.read_table(\"train.txt\")\n",
    "df_test = pd.read_table(\"test.txt\")\n",
    "\n",
    "data_train = df_train.to_numpy()\n",
    "data_test = df_test.to_numpy()\n",
    "\n",
    "x_train = np.delete(data_train, [0], axis=1)\n",
    "y_train = data_train[:, 0]\n",
    "\n",
    "x_test = np.delete(data_test, [0], axis=1)\n",
    "y_test = data_test[:, 0]\n",
    "\n",
    "y_train_Setosa = transform_y(y_train, 0)\n",
    "y_train_Versicolour = transform_y(y_train, 1)\n",
    "y_train_Virginica = transform_y(y_train, 2)\n",
    "\n",
    "y_class = [y_train_Setosa, y_train_Versicolour, y_train_Virginica]"
   ]
  },
  {
   "cell_type": "code",
   "execution_count": 9,
   "id": "45245091",
   "metadata": {
    "ExecuteTime": {
     "end_time": "2022-11-06T08:12:59.785251Z",
     "start_time": "2022-11-06T08:12:57.692319Z"
    }
   },
   "outputs": [],
   "source": [
    "# -------------SVM Modelling-------------\n",
    "with open(\"SVM_linear.txt\", 'w') as f:\n",
    "    ovr_clf = SVC(C=1e5, kernel=\"linear\").fit(x_train, y_train)\n",
    "    training_error = 1 - ovr_clf.score(x_train, y_train)\n",
    "    testing_error = 1 - ovr_clf.score(x_test, y_test)\n",
    "#     print(ovr_clf.coef_)\n",
    "#     print(ovr_clf.intercept_)\n",
    "    \n",
    "\n",
    "    \n",
    "    f.write(str(training_error))\n",
    "    f.write(\"\\n\")\n",
    "    f.write(str(testing_error))\n",
    "    f.write(\"\\n\")\n",
    "\n",
    "    for i in y_class:\n",
    "        clf = SVC(C=1e5, kernel=\"linear\").fit(x_train, i)\n",
    "        w = clf.coef_[0]\n",
    "        b = clf.intercept_[0]\n",
    "        svc_num = clf.n_support_[0]\n",
    "        svid = clf.support_[:]\n",
    "#         print(1-clf.score(x_train, i))\n",
    "#         print(1-clf.score(x_test, y_test))\n",
    "\n",
    "        w_ = ', '.join([str(i) for i in w])\n",
    "        f.write(w_)\n",
    "        f.write(\"\\n\")\n",
    "        f.write(str(b))\n",
    "        f.write(\"\\n\")\n",
    "        id = ', '.join([str(i) for i in svid])\n",
    "        f.write(id)\n",
    "        f.write(\"\\n\")\n",
    "\n",
    "f.close()"
   ]
  },
  {
   "cell_type": "code",
   "execution_count": null,
   "id": "267ae029",
   "metadata": {},
   "outputs": [],
   "source": []
  }
 ],
 "metadata": {
  "kernelspec": {
   "display_name": "Python 3 (ipykernel)",
   "language": "python",
   "name": "python3"
  },
  "language_info": {
   "codemirror_mode": {
    "name": "ipython",
    "version": 3
   },
   "file_extension": ".py",
   "mimetype": "text/x-python",
   "name": "python",
   "nbconvert_exporter": "python",
   "pygments_lexer": "ipython3",
   "version": "3.10.2"
  },
  "toc": {
   "base_numbering": 1,
   "nav_menu": {},
   "number_sections": true,
   "sideBar": true,
   "skip_h1_title": false,
   "title_cell": "Table of Contents",
   "title_sidebar": "Contents",
   "toc_cell": false,
   "toc_position": {},
   "toc_section_display": true,
   "toc_window_display": false
  }
 },
 "nbformat": 4,
 "nbformat_minor": 5
}
