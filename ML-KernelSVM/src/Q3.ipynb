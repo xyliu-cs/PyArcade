{
 "cells": [
  {
   "cell_type": "code",
   "execution_count": 31,
   "id": "12743fd7",
   "metadata": {
    "ExecuteTime": {
     "end_time": "2022-11-06T08:17:53.343037Z",
     "start_time": "2022-11-06T08:17:53.330382Z"
    }
   },
   "outputs": [],
   "source": [
    "import numpy as np\n",
    "import pandas as pd\n",
    "from sklearn.svm import SVC\n",
    "from sklearn import preprocessing as prep\n",
    "from sklearn.multiclass import OneVsRestClassifier as OVR"
   ]
  },
  {
   "cell_type": "code",
   "execution_count": 32,
   "id": "8d1635b2",
   "metadata": {
    "ExecuteTime": {
     "end_time": "2022-11-06T08:17:54.090846Z",
     "start_time": "2022-11-06T08:17:54.082847Z"
    }
   },
   "outputs": [],
   "source": [
    "# hyper-parameter\n",
    "my_C = 1"
   ]
  },
  {
   "cell_type": "code",
   "execution_count": 33,
   "id": "aa4ed119",
   "metadata": {
    "ExecuteTime": {
     "end_time": "2022-11-06T08:17:54.730000Z",
     "start_time": "2022-11-06T08:17:54.724999Z"
    }
   },
   "outputs": [],
   "source": [
    "def transform_y(y_t, class_num, flag=0):\n",
    "        # print(class_num)\n",
    "        y = np.array(y_t)\n",
    "        if flag == 0:\n",
    "        # the target class we want to distinguish is set to -1 \n",
    "            y[y == class_num] = -1\n",
    "            y[y != -1] = 1\n",
    "            return y\n",
    "        else:\n",
    "            y[y == class_num] = 10\n",
    "            y[y != 10] = 0\n",
    "            y[y == 10] = 1\n",
    "            return y"
   ]
  },
  {
   "cell_type": "code",
   "execution_count": 34,
   "id": "633c6e51",
   "metadata": {
    "ExecuteTime": {
     "end_time": "2022-11-06T08:17:55.936051Z",
     "start_time": "2022-11-06T08:17:55.920052Z"
    }
   },
   "outputs": [],
   "source": [
    "# ------------- data preparation -------------\n",
    "df_train = pd.read_table(\"train.txt\")\n",
    "df_test = pd.read_table(\"test.txt\")\n",
    "\n",
    "data_train = df_train.to_numpy()\n",
    "data_test = df_test.to_numpy()\n",
    "\n",
    "x_train = np.delete(data_train, [0], axis=1)\n",
    "y_train = data_train[:, 0]\n",
    "\n",
    "x_test = np.delete(data_test, [0], axis=1)\n",
    "y_test = data_test[:, 0]\n",
    "\n",
    "# scaling for x train dataset to standard distribution\n",
    "scaler_1 = prep.StandardScaler().fit(x_train)\n",
    "x_tr_scaled = scaler_1.transform(x_train)\n",
    "scaler_2 = prep.StandardScaler().fit(x_test)\n",
    "x_ts_scaled = scaler_2.transform(x_test)\n",
    "\n",
    "\n",
    "# st for Setosa; vs for Versicolour; vg for Virginica\n",
    "y_train_st = transform_y(y_train, 0)\n",
    "y_train_vs = transform_y(y_train, 1)\n",
    "y_train_vg = transform_y(y_train, 2)\n",
    "\n",
    "sig_y_train_st = transform_y(y_train, 0, flag=1)\n",
    "sig_y_train_vs = transform_y(y_train, 1, flag=1)\n",
    "sig_y_train_vg = transform_y(y_train, 2, flag=1)\n",
    "\n",
    "\n",
    "y_class = [y_train_st, y_train_vs, y_train_vg]\n",
    "sig_y_class = [sig_y_train_st, sig_y_train_vs, sig_y_train_vg]"
   ]
  },
  {
   "cell_type": "code",
   "execution_count": 35,
   "id": "e96bf853",
   "metadata": {
    "ExecuteTime": {
     "end_time": "2022-11-06T08:17:57.452096Z",
     "start_time": "2022-11-06T08:17:57.419459Z"
    }
   },
   "outputs": [
    {
     "name": "stdout",
     "output_type": "stream",
     "text": [
      "Poly with degree 2\n",
      "training error: 0.033333333333333326\n",
      "testing error: 0.033333333333333326\n",
      "Poly with degree 3\n",
      "training error: 0.025000000000000022\n",
      "testing error: 0.0\n"
     ]
    }
   ],
   "source": [
    "# ---------------- poly ----------------\n",
    "namelist = [\"SVM_poly2.txt\", \"SVM_poly3.txt\"]\n",
    "for i in range(2):\n",
    "    with open(namelist[i], 'w') as f:\n",
    "        poly_clf = OVR(SVC(C=my_C, kernel=\"poly\", degree=i+2)).fit(x_train, y_train)\n",
    "        poly_tr_err = 1 - poly_clf.score(x_train, y_train)\n",
    "        poly_ts_err = 1 - poly_clf.score(x_test, y_test)\n",
    "        print(\"Poly with degree\", i+2)\n",
    "        print(\"training error:\", poly_tr_err)\n",
    "        print(\"testing error:\", poly_ts_err)\n",
    "        \n",
    "        \n",
    "\n",
    "        f.write(str(poly_tr_err))\n",
    "        f.write(\"\\n\")\n",
    "        f.write(str(poly_ts_err))\n",
    "        f.write(\"\\n\")\n",
    "\n",
    "        for j in y_class:\n",
    "            poly_sub = SVC(C=my_C, kernel=\"poly\", degree=i+2).fit(x_train, j)\n",
    "            b = poly_sub.intercept_[0]\n",
    "            svc_num = poly_sub.n_support_[0]\n",
    "            svid = poly_sub.support_[:]\n",
    "\n",
    "            f.write(str(b))\n",
    "            f.write(\"\\n\")\n",
    "            id = ', '.join([str(k) for k in svid])\n",
    "            f.write(id)\n",
    "            f.write(\"\\n\")\n",
    "\n",
    "f.close()"
   ]
  },
  {
   "cell_type": "code",
   "execution_count": 36,
   "id": "609d7cea",
   "metadata": {
    "ExecuteTime": {
     "end_time": "2022-11-06T08:17:59.873871Z",
     "start_time": "2022-11-06T08:17:59.860866Z"
    },
    "scrolled": false
   },
   "outputs": [
    {
     "name": "stdout",
     "output_type": "stream",
     "text": [
      "RBF Kernel\n",
      "training error: 0.033333333333333326\n",
      "testing error: 0.033333333333333326\n"
     ]
    }
   ],
   "source": [
    "# ---------------- RBF ----------------\n",
    "\n",
    "with open(\"SVM_rbf.txt\", 'w') as f:\n",
    "\n",
    "    rbf_clf = OVR(SVC(C=my_C, kernel=\"rbf\", gamma=0.5)).fit(x_train, y_train)\n",
    "    rbf_tr_err = 1 - rbf_clf.score(x_train, y_train)\n",
    "    rbf_ts_err = 1 - rbf_clf.score(x_test, y_test)\n",
    "    \n",
    "    print(\"RBF Kernel\")\n",
    "    print(\"training error:\", rbf_tr_err)\n",
    "    print(\"testing error:\", rbf_ts_err)\n",
    "\n",
    "    f.write(str(rbf_tr_err))\n",
    "    f.write(\"\\n\")\n",
    "    f.write(str(rbf_ts_err))\n",
    "    f.write(\"\\n\")\n",
    "\n",
    "    for rbf_y in y_class:\n",
    "        rbf_sub = SVC(C=my_C, kernel=\"rbf\", gamma=0.5).fit(x_train, rbf_y)\n",
    "        b = rbf_sub.intercept_[0]\n",
    "        svc_num = rbf_sub.n_support_[0]\n",
    "        svid = rbf_sub.support_[:]\n",
    "\n",
    "        f.write(str(b))\n",
    "        f.write(\"\\n\")\n",
    "        id = ', '.join([str(k) for k in svid])\n",
    "        f.write(id)\n",
    "        f.write(\"\\n\")\n",
    "\n",
    "f.close()"
   ]
  },
  {
   "cell_type": "code",
   "execution_count": 37,
   "id": "9d0df7d9",
   "metadata": {
    "ExecuteTime": {
     "end_time": "2022-11-06T08:18:04.048922Z",
     "start_time": "2022-11-06T08:18:04.028606Z"
    }
   },
   "outputs": [
    {
     "name": "stdout",
     "output_type": "stream",
     "text": [
      "Sigmoid Kernel\n",
      "training error: 0.1166666666666667\n",
      "testing error: 0.2666666666666667\n"
     ]
    }
   ],
   "source": [
    "# ---------------- sigmoid ----------------\n",
    "\n",
    "with open(\"SVM_sigmoid.txt\", 'w') as f:\n",
    "\n",
    "    model = SVC(C=my_C, kernel=\"sigmoid\", gamma = 'auto')\n",
    "    sig_clf = OVR(model).fit(x_tr_scaled, y_train)\n",
    "\n",
    "    sig_tr_err = 1 - sig_clf.score(x_tr_scaled, y_train)\n",
    "    sig_ts_err = 1 - sig_clf.score(x_ts_scaled, y_test)\n",
    "    \n",
    "    print(\"Sigmoid Kernel\")\n",
    "    print(\"training error:\", sig_tr_err)\n",
    "    print(\"testing error:\", sig_ts_err)\n",
    "\n",
    "    f.write(str(sig_tr_err))\n",
    "    f.write(\"\\n\")\n",
    "    f.write(str(sig_ts_err))\n",
    "    f.write(\"\\n\")\n",
    "\n",
    "\n",
    "    for sig_y in sig_y_class:\n",
    "        # print(sig_y)\n",
    "        # print(\"iter: \", iter)\n",
    "        sig_sub = SVC(C=my_C, kernel=\"sigmoid\", gamma= 'auto').fit(x_tr_scaled, sig_y)\n",
    "        b = sig_sub.intercept_[0]\n",
    "        svc_num = sig_sub.n_support_[0]\n",
    "        svid = sig_sub.support_[:]\n",
    "\n",
    "        f.write(str(b))\n",
    "        f.write(\"\\n\")\n",
    "        id = ', '.join([str(k) for k in svid])\n",
    "        f.write(id)\n",
    "        f.write(\"\\n\")\n",
    "\n",
    "\n",
    "f.close()\n"
   ]
  },
  {
   "cell_type": "code",
   "execution_count": null,
   "id": "fcbeb2dd",
   "metadata": {},
   "outputs": [],
   "source": []
  }
 ],
 "metadata": {
  "kernelspec": {
   "display_name": "Python 3 (ipykernel)",
   "language": "python",
   "name": "python3"
  },
  "language_info": {
   "codemirror_mode": {
    "name": "ipython",
    "version": 3
   },
   "file_extension": ".py",
   "mimetype": "text/x-python",
   "name": "python",
   "nbconvert_exporter": "python",
   "pygments_lexer": "ipython3",
   "version": "3.10.2"
  },
  "toc": {
   "base_numbering": 1,
   "nav_menu": {},
   "number_sections": true,
   "sideBar": true,
   "skip_h1_title": false,
   "title_cell": "Table of Contents",
   "title_sidebar": "Contents",
   "toc_cell": false,
   "toc_position": {},
   "toc_section_display": true,
   "toc_window_display": false
  }
 },
 "nbformat": 4,
 "nbformat_minor": 5
}
