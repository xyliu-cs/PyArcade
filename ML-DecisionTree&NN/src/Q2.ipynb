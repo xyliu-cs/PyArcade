{
 "cells": [
  {
   "cell_type": "code",
   "execution_count": 6,
   "id": "3c32ca0a",
   "metadata": {
    "ExecuteTime": {
     "end_time": "2022-11-26T16:02:20.162286Z",
     "start_time": "2022-11-26T16:02:19.353485Z"
    }
   },
   "outputs": [],
   "source": [
    "from load_mnist import load_mnist\n",
    "import pandas as pd\n",
    "import numpy as np\n",
    "from sklearn.neural_network import MLPClassifier"
   ]
  },
  {
   "cell_type": "code",
   "execution_count": 7,
   "id": "17c14cda",
   "metadata": {
    "ExecuteTime": {
     "end_time": "2022-11-26T16:02:21.208723Z",
     "start_time": "2022-11-26T16:02:20.915562Z"
    }
   },
   "outputs": [],
   "source": [
    "X_train, X_test, y_train, y_test = load_mnist(path = './MNIST/', flatten = True, binary_data = False)"
   ]
  },
  {
   "cell_type": "code",
   "execution_count": 8,
   "id": "80d6b433",
   "metadata": {
    "ExecuteTime": {
     "end_time": "2022-11-26T16:02:21.956986Z",
     "start_time": "2022-11-26T16:02:21.952928Z"
    }
   },
   "outputs": [],
   "source": [
    "def neural_network(layers=1, nodes=100):\n",
    "    tup = (nodes,) * layers\n",
    "    clf = MLPClassifier(hidden_layer_sizes=tup).fit(X_train, y_train)\n",
    "    tr_error = 1 - clf.score(X_train, y_train)\n",
    "    ts_error = 1 - clf.score(X_test, y_test)\n",
    "    print(\"Number of hidden layers:\", layers)\n",
    "    print(\"Number of hidden neurons per layer:\", nodes)\n",
    "    print(\"Trainning Error:\", tr_error)\n",
    "    print(\"Testing Error:\", ts_error)    "
   ]
  },
  {
   "cell_type": "code",
   "execution_count": 9,
   "id": "1b45b5d3",
   "metadata": {
    "ExecuteTime": {
     "end_time": "2022-11-26T17:05:49.442820Z",
     "start_time": "2022-11-26T16:02:23.205855Z"
    }
   },
   "outputs": [
    {
     "name": "stdout",
     "output_type": "stream",
     "text": [
      "Number of hidden layers: 1\n",
      "Number of hidden neurons per layer: 50\n",
      "Trainning Error: 0.013883333333333359\n",
      "Testing Error: 0.049000000000000044\n",
      "Number of hidden layers: 1\n",
      "Number of hidden neurons per layer: 200\n",
      "Trainning Error: 0.005083333333333329\n",
      "Testing Error: 0.02739999999999998\n",
      "Number of hidden layers: 1\n",
      "Number of hidden neurons per layer: 785\n",
      "Trainning Error: 0.0038000000000000256\n",
      "Testing Error: 0.02400000000000002\n",
      "Number of hidden layers: 2\n",
      "Number of hidden neurons per layer: 50\n",
      "Trainning Error: 0.0038833333333333497\n",
      "Testing Error: 0.0373\n",
      "Number of hidden layers: 2\n",
      "Number of hidden neurons per layer: 200\n",
      "Trainning Error: 0.0035166666666666124\n",
      "Testing Error: 0.02529999999999999\n",
      "Number of hidden layers: 2\n",
      "Number of hidden neurons per layer: 785\n",
      "Trainning Error: 0.0030333333333333323\n",
      "Testing Error: 0.023399999999999976\n",
      "Number of hidden layers: 3\n",
      "Number of hidden neurons per layer: 50\n",
      "Trainning Error: 0.006983333333333341\n",
      "Testing Error: 0.03700000000000003\n",
      "Number of hidden layers: 3\n",
      "Number of hidden neurons per layer: 200\n",
      "Trainning Error: 0.0027166666666667005\n",
      "Testing Error: 0.02300000000000002\n",
      "Number of hidden layers: 3\n",
      "Number of hidden neurons per layer: 785\n",
      "Trainning Error: 0.004966666666666675\n",
      "Testing Error: 0.023900000000000032\n"
     ]
    }
   ],
   "source": [
    "# this may take up to 6 minutes, please wait for a while ...\n",
    "for i in [1, 2, 3]:\n",
    "    for j in [50, 200, 785]:\n",
    "        neural_network(i, j)"
   ]
  },
  {
   "cell_type": "code",
   "execution_count": null,
   "id": "c204db91",
   "metadata": {},
   "outputs": [],
   "source": []
  }
 ],
 "metadata": {
  "kernelspec": {
   "display_name": "Python 3 (ipykernel)",
   "language": "python",
   "name": "python3"
  },
  "language_info": {
   "codemirror_mode": {
    "name": "ipython",
    "version": 3
   },
   "file_extension": ".py",
   "mimetype": "text/x-python",
   "name": "python",
   "nbconvert_exporter": "python",
   "pygments_lexer": "ipython3",
   "version": "3.10.2"
  },
  "toc": {
   "base_numbering": 1,
   "nav_menu": {},
   "number_sections": true,
   "sideBar": true,
   "skip_h1_title": false,
   "title_cell": "Table of Contents",
   "title_sidebar": "Contents",
   "toc_cell": false,
   "toc_position": {},
   "toc_section_display": true,
   "toc_window_display": false
  }
 },
 "nbformat": 4,
 "nbformat_minor": 5
}
